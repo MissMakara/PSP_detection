{
 "cells": [
  {
   "cell_type": "markdown",
   "metadata": {},
   "source": [
    "The main neuropathologic characteristics of PSP are neuronal degeneration and loss in the tegmentum of the midbrain, atrophy of the substantia nigra (SN), and changes in the red nucleus and globus pallidus.\n",
    "The superior midbrain profile is the most robust MR imaging sign for identifying PSP in a routine clinical setting.\n",
    "Demonstration of the hummingbird sign on MRI is thought to be useful for establishing the diagnosis of PSP; it is reported to have a sensitivity of nearly 100%.[1] Patients with Parkinson's disease, multisystem atrophy, and corticobasal degeneration have no midbrain atrophy and therefore do not show this sign.\n",
    "Demonstration of the 'Humming bird sign' and the 'Mickey Mouse sign' on MRI brain is very sensitive in establishing the diagnosis of PSP\n",
    "Midsagittal T1-weighted MRI of the brain revealed midbrain tegmental atrophy without pontine atrophy, associated with widening of interpeduncular cistern giving the impression of head and body of a humming bird [Figure 1]. This is known as the 'Humming bird sign'.\n",
    "Axial T1-weighted MRI of the brain showed selective atrophy of the midbrain tegmentum with relative preservation of tectum and cerebral peduncles resembling the head of a Mickey Mouse [Figure 2]. This is known as the 'Mickey Mouse sign'."
   ]
  },
  {
   "cell_type": "markdown",
   "metadata": {},
   "source": [
    "REFERENCES:\n",
    "http://www.ajnr.org/content/25/6/927\n",
    "https://www.ncbi.nlm.nih.gov/pmc/articles/PMC2812742/\n",
    "https://www.mmj.eg.net/article.asp?issn=1110-2098;year=2017;volume=30;issue=1;spage=325;epage=326;aulast=Jalal"
   ]
  },
  {
   "cell_type": "code",
   "execution_count": 3,
   "metadata": {},
   "outputs": [],
   "source": [
    "import tensorflow as tf\n",
    "import numpy as np\n",
    "import os\n",
    "import cv2\n",
    "from tensorflow import keras\n",
    "import matplotlib.pyplot as plt\n",
    "from PIL import Image\n",
    "from sklearn import preprocessing\n",
    "from sklearn.utils import shuffle\n",
    "from sklearn.model_selection import train_test_split\n",
    "from tensorflow.keras import layers"
   ]
  },
  {
   "cell_type": "code",
   "execution_count": 8,
   "metadata": {},
   "outputs": [],
   "source": [
    "def get_images(link_to_dataset):\n",
    "    IMG_WIDTH=240\n",
    "    IMG_HEIGHT=256\n",
    "    img_data_2D =[]\n",
    "    class_ =[]\n",
    "    nd_image_array =[]\n",
    "\n",
    "    for file in os.listdir(link_to_dataset):\n",
    "        # for file in os.listdir(os.path.join(link_to_dataset,folder)):\n",
    "        image_path = os.path.join(link_to_dataset, file)\n",
    "        image = Image.open(image_path).resize((IMG_WIDTH,IMG_HEIGHT))\n",
    "        # convert image to numpy array\n",
    "        image_data = np.array(image)\n",
    "        image = np.array(image)\n",
    "        flat_image= image.flatten()\n",
    "        #image = image.astype('float32')\n",
    "        \n",
    "        #class_.append(folder)\n",
    "        img_data_2D.append(flat_image)\n",
    "        nd_image_array.append(image_data)\n",
    "\n",
    "    return img_data_2D, nd_image_array\n"
   ]
  },
  {
   "cell_type": "code",
   "execution_count": 9,
   "metadata": {},
   "outputs": [],
   "source": [
    "#class_names_d, \n",
    "img_data_d, images_array_d = get_images(r'./Brain/Diseased')"
   ]
  },
  {
   "cell_type": "code",
   "execution_count": 10,
   "metadata": {},
   "outputs": [],
   "source": [
    "img_data_n, images_array_n = get_images(r'./Brain/Normal')"
   ]
  },
  {
   "cell_type": "code",
   "execution_count": 13,
   "metadata": {},
   "outputs": [],
   "source": [
    "X_d = np.array(images_array_d)\n",
    "X_n = np.array(images_array_n)"
   ]
  },
  {
   "cell_type": "code",
   "execution_count": null,
   "metadata": {},
   "outputs": [],
   "source": [
    "X_n"
   ]
  },
  {
   "cell_type": "markdown",
   "metadata": {},
   "source": [
    "Data Preprocessing\n",
    "I will use data augmentation to bring out various variations of a given image to give the model a wider array of training examples for better generalization\n",
    "We will use:\n",
    "rotations -  randomly gives different rotations of one image\n",
    "flips -randomly flips half of the images horizontally or vertically\n",
    "colour contrast\n",
    "zoom_range - randomly zooms inside the images\n",
    "width_shift_range - different ranges (as a fraction of total width or height) within which to randomly translate pictures vertically or horizontally\n",
    "heigh_shift_range\n",
    "and fill_mode to fill up any spaces that may have been created during the augmentation process"
   ]
  },
  {
   "cell_type": "code",
   "execution_count": 19,
   "metadata": {},
   "outputs": [],
   "source": [
    "#augment the images\n",
    "from tensorflow.keras.preprocessing.image import ImageDataGenerator\n",
    "train_datagen = ImageDataGenerator(\n",
    "                                   zoom_range = [0.7,1.0],\n",
    "                                   horizontal_flip = True,\n",
    "                                   vertical_flip =True,\n",
    "                                   brightness_range=[0.8,1.5],\n",
    "                                   rotation_range=40, \n",
    "                                   width_shift_range=0.2, \n",
    "                                   height_shift_range=0.2,\n",
    "                                   fill_mode='nearest'\n",
    "                                   )\n"
   ]
  },
  {
   "cell_type": "code",
   "execution_count": 16,
   "metadata": {},
   "outputs": [
    {
     "data": {
      "text/plain": [
       "(229, 256, 240, 1)"
      ]
     },
     "execution_count": 16,
     "metadata": {},
     "output_type": "execute_result"
    }
   ],
   "source": [
    "Diseased_images = np.expand_dims(X_d, axis = 3)\n",
    "Diseased_images.shape"
   ]
  },
  {
   "cell_type": "code",
   "execution_count": 17,
   "metadata": {},
   "outputs": [
    {
     "data": {
      "text/plain": [
       "(181, 256, 240, 1)"
      ]
     },
     "execution_count": 17,
     "metadata": {},
     "output_type": "execute_result"
    }
   ],
   "source": [
    "Normal_images = np.expand_dims(X_n, axis = 3)\n",
    "Normal_images.shape"
   ]
  },
  {
   "cell_type": "code",
   "execution_count": 48,
   "metadata": {},
   "outputs": [],
   "source": [
    "# output = train_datagen.flow(\n",
    "#     X_images, y_train_, batch_size=32, shuffle=True, seed=15,\n",
    "#     save_to_dir=\"aug_images\", save_prefix='aug', save_format='jpeg'\n",
    "# )"
   ]
  },
  {
   "cell_type": "code",
   "execution_count": null,
   "metadata": {},
   "outputs": [],
   "source": [
    "# directory = (r'./Brain/Diseased/')\n",
    "# output2 = train_datagen.flow_from_directory(\n",
    "#     directory, target_size=(240, 256), batch_size=32, shuffle=True, seed=15,\n",
    "#     save_to_dir=\"./augmented_images_2\", save_prefix='aug', save_format='jpeg',\n",
    "#     interpolation='nearest'\n",
    "# )"
   ]
  },
  {
   "cell_type": "code",
   "execution_count": 21,
   "metadata": {},
   "outputs": [],
   "source": [
    "i = 0\n",
    "for batch in train_datagen.flow(Diseased_images, batch_size=32, seed =15,\n",
    "                          save_to_dir='augmented_images/Diseased', save_prefix='aug_d', save_format='jpeg'):\n",
    "    i += 1\n",
    "    if i > 32:\n",
    "        break "
   ]
  },
  {
   "cell_type": "code",
   "execution_count": 22,
   "metadata": {},
   "outputs": [],
   "source": [
    "i = 0\n",
    "for batch in train_datagen.flow(Normal_images, batch_size=32, seed =15,\n",
    "                          save_to_dir='augmented_images/Normal', save_prefix='aug_n', save_format='jpeg'):\n",
    "    i += 1\n",
    "    if i > 32:\n",
    "        break "
   ]
  }
 ],
 "metadata": {
  "interpreter": {
   "hash": "f40ddbcd4c54f281598cd4eb02151c91ab946b5db1313fa46188d077e2f6edf3"
  },
  "kernelspec": {
   "display_name": "Python 3.9.1 64-bit",
   "language": "python",
   "name": "python3"
  },
  "language_info": {
   "codemirror_mode": {
    "name": "ipython",
    "version": 3
   },
   "file_extension": ".py",
   "mimetype": "text/x-python",
   "name": "python",
   "nbconvert_exporter": "python",
   "pygments_lexer": "ipython3",
   "version": "3.8.5"
  },
  "orig_nbformat": 4
 },
 "nbformat": 4,
 "nbformat_minor": 2
}
